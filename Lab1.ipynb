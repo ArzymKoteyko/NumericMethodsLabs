{
 "cells": [
  {
   "cell_type": "code",
   "execution_count": 70,
   "id": "303b1a87-57ec-425b-bf85-ab1cb0347bc7",
   "metadata": {},
   "outputs": [],
   "source": [
    "from random import randint\n",
    "from math import fabs\n",
    "\n",
    "# Эпсилон (точность) для выхода из алгоритма\n",
    "E = 10**-4"
   ]
  },
  {
   "cell_type": "code",
   "execution_count": 44,
   "id": "eb9d1a4b-1661-415b-9c3d-bf6d5bfe9359",
   "metadata": {},
   "outputs": [],
   "source": [
    "# Функция простой итерации для нахождения квадратного корня\n",
    "# а - число из которого мы ищем квадратный корень\n",
    "# x - очередная итерация\n",
    "def easy_sqrt(a, x):\n",
    "    return 1/2 * (a/x + x)\n",
    "\n",
    "# Функцияя итерирующая ответ до тех пор пока не будет достигнута точность E (10^-4) эпсилон\n",
    "def easy_itteration(a, f, x_0):\n",
    "    x_1 = f(a, x_0)\n",
    "    x_2 = f(a, x_1)\n",
    "    dif = fabs( (x_2 - x_1) / (1 - (x_2 - x_1) / (x_1 - x_0)) )\n",
    "    # print(x_0, x_1, x_2, dif)\n",
    "    if dif < E:\n",
    "        return x_1\n",
    "    else:\n",
    "        return easy_itteration(a, f, x_1)"
   ]
  },
  {
   "cell_type": "code",
   "execution_count": 45,
   "id": "f590123e-10b8-42c6-aa06-9f8fcdb909e5",
   "metadata": {},
   "outputs": [
    {
     "data": {
      "text/plain": [
       "1.4142135968022693"
      ]
     },
     "execution_count": 45,
     "metadata": {},
     "output_type": "execute_result"
    }
   ],
   "source": [
    "# Находим корень из 2\n",
    "\n",
    "easy_itteration(2, easy_sqrt, 10)"
   ]
  },
  {
   "cell_type": "code",
   "execution_count": 67,
   "id": "076450ab-8674-49a4-9f21-65ba9cd48b45",
   "metadata": {},
   "outputs": [],
   "source": [
    "# Нахождение отрезка с концами противоположного знака \n",
    "# по данной функции f: function\n",
    "# на интервале interval (x_0, x_1): tuple\n",
    "# с шагом итерации вперед step: int\n",
    "def find_oposite_pair(f, interval, step = 0.1):\n",
    "    x_0 = interval[0]\n",
    "    x_1 = x_0\n",
    "    while f(x_0) * f(x_1) >= 0 and x_1 < interval[1]:\n",
    "        # print(f(x_0), f(x_1))\n",
    "        x_1 += step\n",
    "    return (x_0, x_1)\n",
    "\n",
    "\n",
    "# Рекурсивное деление отрезка пополам, пока не будет найден ответ с точностью E (10^-4) эпсилон\n",
    "def devide(f, x_0, x_1):\n",
    "    x_m = x_0 + fabs(x_1 - x_0) / 2\n",
    "    # print(x_0, fabs(x_1 - x_0) / 2, x_1)\n",
    "    if x_0 == 0:\n",
    "        return x_0\n",
    "    elif x_1 == 0:\n",
    "        return x_1\n",
    "    elif fabs(x_1 - x_0) < E:\n",
    "        return x_0\n",
    "    elif f(x_0) * f(x_m) < 0:\n",
    "        return devide(f, x_0, x_m)\n",
    "    else:\n",
    "        return devide(f, x_m, x_1)\n",
    "    \n",
    "# Нахождение одного первого нуля функции f на интервале interval\n",
    "def half_interval(f, interval, step = 0.1):\n",
    "    x_0, x_1 = find_oposite_pair(f, interval, step)\n",
    "    print(x_0, x_1, interval, step)\n",
    "    return devide(f, x_0, x_1)"
   ]
  },
  {
   "cell_type": "code",
   "execution_count": 64,
   "id": "ce071a29-3916-4e4a-b916-fa4bac755573",
   "metadata": {},
   "outputs": [],
   "source": [
    "# Пробная функция\n",
    "def foo(x):\n",
    "    return (x-2) * ((x-1)**3) * ((x-3)**2)"
   ]
  },
  {
   "cell_type": "code",
   "execution_count": 71,
   "id": "26d8cca6-50eb-444a-bb53-ff24a565dd04",
   "metadata": {},
   "outputs": [
    {
     "name": "stdout",
     "output_type": "stream",
     "text": [
      "-10 1.0999999999999812 (-10, 10) 0.1\n"
     ]
    },
    {
     "data": {
      "text/plain": [
       "0.999985504150372"
      ]
     },
     "execution_count": 71,
     "metadata": {},
     "output_type": "execute_result"
    }
   ],
   "source": [
    "# Первый ноль функции на интервале (-10, 10)\n",
    "half_interval(foo, (-10, 10))"
   ]
  },
  {
   "cell_type": "code",
   "execution_count": null,
   "id": "d9b08722-875f-4391-9b07-23951c5439b3",
   "metadata": {},
   "outputs": [],
   "source": [
    "# Ответ 1"
   ]
  },
  {
   "cell_type": "code",
   "execution_count": 73,
   "id": "579d0cff-67fb-46eb-ad00-851c0be6a4d6",
   "metadata": {},
   "outputs": [
    {
     "name": "stdout",
     "output_type": "stream",
     "text": [
      "1.1 2.000000000000001 (1.1, 10) 0.1\n"
     ]
    },
    {
     "data": {
      "text/plain": [
       "1.9999450683593758"
      ]
     },
     "execution_count": 73,
     "metadata": {},
     "output_type": "execute_result"
    }
   ],
   "source": [
    "# Первый ноль функции на интервале (1.1, 10)\n",
    "half_interval(foo, (1.1, 10))"
   ]
  },
  {
   "cell_type": "code",
   "execution_count": null,
   "id": "dab6d2ed-d09a-4935-a8d0-2f1ced941e5d",
   "metadata": {},
   "outputs": [],
   "source": [
    "# Ответ 2"
   ]
  }
 ],
 "metadata": {
  "kernelspec": {
   "display_name": "Python 3 (ipykernel)",
   "language": "python",
   "name": "python3"
  },
  "language_info": {
   "codemirror_mode": {
    "name": "ipython",
    "version": 3
   },
   "file_extension": ".py",
   "mimetype": "text/x-python",
   "name": "python",
   "nbconvert_exporter": "python",
   "pygments_lexer": "ipython3",
   "version": "3.10.7"
  }
 },
 "nbformat": 4,
 "nbformat_minor": 5
}
